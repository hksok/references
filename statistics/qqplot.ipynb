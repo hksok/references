{
  "nbformat": 4,
  "nbformat_minor": 0,
  "metadata": {
    "colab": {
      "name": "Untitled2.ipynb",
      "provenance": []
    },
    "kernelspec": {
      "name": "python3",
      "display_name": "Python 3"
    },
    "language_info": {
      "name": "python"
    }
  },
  "cells": [
    {
      "cell_type": "markdown",
      "metadata": {
        "id": "-D7CtqewofFH"
      },
      "source": [
        "# QQ plot\n",
        "\n",
        "materials:\n",
        "\n",
        "https://towardsdatascience.com/q-q-plots-explained-5aa8495426c0\n",
        "\n",
        "In statistics, Q-Q (quantile-quantile) plots play a very vital role to graphically analyze and compare two probability distributions by plotting their quantiles against each other. \n",
        "\n",
        "If the two distributions which we are comparing are exactly equal then the points on the Q-Q plot will perfectly lie on a straight line y=x."
      ]
    },
    {
      "cell_type": "code",
      "metadata": {
        "colab": {
          "base_uri": "https://localhost:8080/"
        },
        "id": "vACdsonYlUc1",
        "outputId": "ef12576a-5346-4127-994d-5f8aecb87778"
      },
      "source": [
        "import numpy as np\n",
        "import statsmodels.api as sm\n",
        "import pylab as py"
      ],
      "execution_count": 4,
      "outputs": [
        {
          "output_type": "stream",
          "text": [
            "/usr/local/lib/python3.7/dist-packages/statsmodels/tools/_testing.py:19: FutureWarning: pandas.util.testing is deprecated. Use the functions in the public API at pandas.testing instead.\n",
            "  import pandas.util.testing as tm\n"
          ],
          "name": "stderr"
        }
      ]
    },
    {
      "cell_type": "code",
      "metadata": {
        "colab": {
          "base_uri": "https://localhost:8080/",
          "height": 280
        },
        "id": "WCIi4tt3lyWV",
        "outputId": "26a27fbd-55d3-4bf0-8e7c-66fa870a78c0"
      },
      "source": [
        "# np.random generates different random numbers everytime the code is executed.\n",
        "data_points = np.random.normal(0, 1, 100)     \n",
        "  \n",
        "sm.qqplot(data_points, line ='45') \n",
        "py.show()"
      ],
      "execution_count": 5,
      "outputs": [
        {
          "output_type": "display_data",
          "data": {
            "image/png": "[encoded data removed]",
            "text/plain": [
              "<Figure size 432x288 with 1 Axes>"
            ]
          },
          "metadata": {
            "tags": [],
            "needs_background": "light"
          }
        }
      ]
    }
  ]
}